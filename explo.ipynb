{
 "cells": [
  {
   "cell_type": "code",
   "execution_count": 2,
   "metadata": {},
   "outputs": [],
   "source": [
    "def model_parseur_():\n",
    "    Parseur = NERModel(\n",
    "        \"camembert\", \"LOSS_NEW2\", use_cuda=False, args={\"max_seq_length\": 512}\n",
    "    )\n",
    "    return Parseur\n"
   ]
  },
  {
   "cell_type": "code",
   "execution_count": 4,
   "metadata": {},
   "outputs": [],
   "source": [
    "from simpletransformers.ner import NERModel, NERArgs"
   ]
  },
  {
   "cell_type": "code",
   "execution_count": 6,
   "metadata": {},
   "outputs": [
    {
     "data": {
      "application/vnd.jupyter.widget-view+json": {
       "model_id": "fa4752a872b34e0d9ba46da9d70ccf97",
       "version_major": 2,
       "version_minor": 0
      },
      "text/plain": [
       "  0%|          | 0/3 [00:00<?, ?it/s]"
      ]
     },
     "metadata": {},
     "output_type": "display_data"
    },
    {
     "data": {
      "application/vnd.jupyter.widget-view+json": {
       "model_id": "4c180224424e43dfa92f9bb088df5ee6",
       "version_major": 2,
       "version_minor": 0
      },
      "text/plain": [
       "Running Prediction:   0%|          | 0/1 [00:00<?, ?it/s]"
      ]
     },
     "metadata": {},
     "output_type": "display_data"
    },
    {
     "data": {
      "text/plain": [
       "([[{'m': 'O'}], [{'o': 'O'}], [{'t': 'O'}]],\n",
       " [[{'m': [[-2.6173623,\n",
       "      -2.622868,\n",
       "      -2.3311968,\n",
       "      -2.0090706,\n",
       "      11.319418,\n",
       "      -2.3655596,\n",
       "      -1.3604801,\n",
       "      -1.9152024,\n",
       "      -2.223405,\n",
       "      -1.6423473,\n",
       "      -1.7094986,\n",
       "      -0.78852606,\n",
       "      -1.7514259,\n",
       "      -2.586965,\n",
       "      -1.2261581,\n",
       "      -2.5572243,\n",
       "      -1.7807773,\n",
       "      -3.1500382,\n",
       "      -2.3890004,\n",
       "      -2.4005642,\n",
       "      -2.1397362]]}],\n",
       "  [{'o': [[-2.848153,\n",
       "      -2.8942373,\n",
       "      -2.465273,\n",
       "      -2.2575307,\n",
       "      11.14926,\n",
       "      -1.8923405,\n",
       "      -1.5965364,\n",
       "      -2.1283505,\n",
       "      -1.8415195,\n",
       "      -1.7244416,\n",
       "      -2.1940942,\n",
       "      -0.632565,\n",
       "      -1.478943,\n",
       "      -2.5100942,\n",
       "      -0.97737515,\n",
       "      -2.064149,\n",
       "      -1.4907805,\n",
       "      -3.1719646,\n",
       "      -2.4475856,\n",
       "      -2.3941743,\n",
       "      -2.1480622]]}],\n",
       "  [{'t': [[-2.881003,\n",
       "      -2.8087409,\n",
       "      -2.262082,\n",
       "      -1.944219,\n",
       "      11.194031,\n",
       "      -2.0144339,\n",
       "      -1.2304404,\n",
       "      -2.3403177,\n",
       "      -1.8108244,\n",
       "      -1.3982031,\n",
       "      -2.1803684,\n",
       "      -0.808378,\n",
       "      -1.0410304,\n",
       "      -2.767686,\n",
       "      -1.2493968,\n",
       "      -2.3399706,\n",
       "      -1.550832,\n",
       "      -3.2512386,\n",
       "      -2.4054146,\n",
       "      -2.5119395,\n",
       "      -2.2728374]]}]])"
      ]
     },
     "execution_count": 6,
     "metadata": {},
     "output_type": "execute_result"
    }
   ],
   "source": [
    "parseur.predict('mot', split_on_space=False)"
   ]
  },
  {
   "cell_type": "code",
   "execution_count": 5,
   "metadata": {},
   "outputs": [],
   "source": [
    "parseur=model_parseur_()"
   ]
  }
 ],
 "metadata": {
  "kernelspec": {
   "display_name": "Python 3",
   "language": "python",
   "name": "python3"
  },
  "language_info": {
   "codemirror_mode": {
    "name": "ipython",
    "version": 3
   },
   "file_extension": ".py",
   "mimetype": "text/x-python",
   "name": "python",
   "nbconvert_exporter": "python",
   "pygments_lexer": "ipython3",
   "version": "3.10.9"
  }
 },
 "nbformat": 4,
 "nbformat_minor": 2
}
